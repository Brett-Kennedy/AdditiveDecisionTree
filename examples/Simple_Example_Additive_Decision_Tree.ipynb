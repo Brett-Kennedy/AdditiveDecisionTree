{
 "cells": [
  {
   "cell_type": "code",
   "execution_count": 39,
   "id": "7283a3a8",
   "metadata": {},
   "outputs": [],
   "source": [
    "import pandas as pd\n",
    "import numpy as np\n",
    "from sklearn.datasets import load_iris, load_breast_cancer, load_wine \n",
    "from sklearn import tree\n",
    "from sklearn.model_selection import train_test_split, GridSearchCV\n",
    "from sklearn.metrics import f1_score\n",
    "\n",
    "# Todo: remove once have pip install\n",
    "import sys  \n",
    "sys.path.insert(0, 'C:\\python_projects\\AdditiveDecisionTree_project\\AdditiveDecisionTree') \n",
    "from AdditiveDecisionTree import AdditiveDecisionTreeClasssifier\n",
    "\n",
    "np.random.seed(0)"
   ]
  },
  {
   "cell_type": "markdown",
   "id": "95ee8d28",
   "metadata": {},
   "source": [
    "## Constants used to specify the tests below"
   ]
  },
  {
   "cell_type": "code",
   "execution_count": 40,
   "id": "15849333",
   "metadata": {},
   "outputs": [],
   "source": [
    "# Set to one of: \"iris\", \"breast_cancer\", or \"wine\"\n",
    "DATASET_TESTED = \"breast_cancer\""
   ]
  },
  {
   "cell_type": "code",
   "execution_count": 41,
   "id": "80859ea5",
   "metadata": {},
   "outputs": [],
   "source": [
    "def get_iris():\n",
    "    iris = load_iris()\n",
    "    X, y = iris.data, iris.target\n",
    "    X = pd.DataFrame(X, columns=iris['feature_names'])\n",
    "    y = pd.Series(y)\n",
    "    return X, y\n",
    "\n",
    "def get_breast_cancer():\n",
    "    X, y = load_breast_cancer(return_X_y=True, as_frame=True)\n",
    "    return X,y\n",
    "\n",
    "def get_wine():\n",
    "    X, y = load_wine(return_X_y=True, as_frame=True)\n",
    "    return X,y"
   ]
  },
  {
   "cell_type": "markdown",
   "id": "143756a7",
   "metadata": {},
   "source": [
    "## Example using sklearn's Decision Tree, RotationFeatures, and ExtendedDecisionTree on the Iris dataset"
   ]
  },
  {
   "cell_type": "code",
   "execution_count": 42,
   "id": "898c2ca6",
   "metadata": {
    "scrolled": false
   },
   "outputs": [
    {
     "name": "stdout",
     "output_type": "stream",
     "text": [
      "Standard DT: Training score: 0.99, Testing score: 0.92, Complexity: 23\n",
      "Additive DT: Training score: 0.97, Testing score: 0.93, Complexity: 18\n"
     ]
    }
   ],
   "source": [
    "# Note: this provides only an example of using ExtendedDecisionTree and does not properly test its accuracy\n",
    "\n",
    "if DATASET_TESTED == \"iris\":\n",
    "    X,y = get_iris()\n",
    "elif DATASET_TESTED == \"breast_cancer\":\n",
    "    X,y = get_breast_cancer()\n",
    "elif DATASET_TESTED == \"wine\":\n",
    "    X,y = get_wine()\n",
    "else:\n",
    "    assert False, \"Not a valid test dataset\"\n",
    "\n",
    "X_train, X_test, y_train, y_test = train_test_split(X, y, random_state=0)\n",
    "\n",
    "def evaluate_model(clf, clf_desc):\n",
    "    clf.fit(X_train, y_train)\n",
    "    y_pred_train = clf.predict(X_train)\n",
    "    score_train = f1_score(y_train, y_pred_train, average='macro')\n",
    "    y_pred_test = clf.predict(X_test)\n",
    "    score_test = f1_score(y_test, y_pred_test, average='macro')\n",
    "    complexity = 0\n",
    "    if hasattr(clf, \"get_model_complexity\"):\n",
    "        complexity = clf.get_model_complexity()\n",
    "    elif hasattr(clf, \"tree_\"):\n",
    "        complexity = len(clf.tree_.feature)\n",
    "    print(f\"{clf_desc}: Training score: {round(score_train,2)}, Testing score: {round(score_test,2)}, Complexity: {complexity}\")\n",
    "  \n",
    "dt_1 = tree.DecisionTreeClassifier(max_depth=4, random_state=42)\n",
    "evaluate_model(dt_1, \"Standard DT\")\n",
    "\n",
    "# edt1 = AdditiveDecisionTreeClasssifier(max_depth=4, allow_additive_nodes=False, verbose_level=0)\n",
    "# evaluate_model(edt1, \"Additive DT (without additive features)\")\n",
    "\n",
    "edt = AdditiveDecisionTreeClasssifier(max_depth=4, allow_additive_nodes=True, verbose_level=0)\n",
    "evaluate_model(edt, \"Additive DT\")"
   ]
  },
  {
   "cell_type": "markdown",
   "id": "8062a30a",
   "metadata": {},
   "source": [
    "## Summary Output of the ExtendedDecisionTree"
   ]
  },
  {
   "cell_type": "code",
   "execution_count": 43,
   "id": "575195ff",
   "metadata": {},
   "outputs": [
    {
     "name": "stdout",
     "output_type": "stream",
     "text": [
      "\n",
      "********************************************************\n",
      "Generated Tree\n",
      "********************************************************\n",
      "# Nodes: 9\n",
      "Left Chidren: [1, 3, 5, -2, -2, 7, -2, -2, -2]\n",
      "Right Chidren: [2, 4, 6, -2, -2, 8, -2, -2, -2]\n",
      "Features: [7, 23, 23, -100, -2, 21, -2, -2, -2]\n",
      "Thresholds: [0.04891999997198582, 952.8999938964844, 785.7999877929688, 21.574999809265137, -2, 23.739999771118164, -2, -2, -2]\n",
      "Depths: [0, 1, 1, 2, 2, 2, 2, 3, 3]\n",
      "Class counts: [[159, 267], [13, 247], [146, 20], [7, 245], [6, 2], [13, 17], [133, 3], [0, 14], [13, 3]]\n",
      "Leaf Class Counts: [[7, 245], [6, 2], [133, 3], [0, 14], [13, 3]]\n",
      "Can split:  [True, True, True, True, True, True, True, True, True]\n",
      "Node igr:  [0.4156254639152989, 0.2031712696855239, 0.29661687709662865, 0.18239393289682015, -2, 0.43241893359216155, -2, -2, -2]\n",
      "********************************************************\n",
      "\n"
     ]
    }
   ],
   "source": [
    "edt.output_tree()"
   ]
  },
  {
   "cell_type": "markdown",
   "id": "a9859947",
   "metadata": {},
   "source": [
    "## Example Tuning Hyperparameters with a Cross Validated Grid Search"
   ]
  },
  {
   "cell_type": "code",
   "execution_count": 13,
   "id": "d6555065",
   "metadata": {},
   "outputs": [
    {
     "name": "stdout",
     "output_type": "stream",
     "text": [
      "test_score:  0.9537664528176862\n",
      "best estimator:  min_samples_split: 5, min_samples_leaf: 5, max_depth: 4, allow_additive_nodes: False\n"
     ]
    }
   ],
   "source": [
    "parameters = {\n",
    "    'min_samples_split': (5,10,25,50), \n",
    "    'min_samples_leaf': (5,10,15),\n",
    "    'max_depth': (4,5,6),\n",
    "    'allow_additive_nodes': (True, False)\n",
    "}\n",
    "\n",
    "estimator = AdditiveDecisionTreeClasssifier()\n",
    "gs_estimator = GridSearchCV(estimator, parameters, scoring='f1_macro')\n",
    "gs_estimator.fit(X_train, y_train)\n",
    "y_pred = gs_estimator.predict(X_test)\n",
    "test_score = f1_score(list(y_pred), list(y_test), average=\"macro\") \n",
    "\n",
    "print(\"test_score: \", test_score)\n",
    "print(\"best estimator: \", gs_estimator.best_estimator_)"
   ]
  },
  {
   "cell_type": "code",
   "execution_count": null,
   "id": "3f78189e",
   "metadata": {},
   "outputs": [],
   "source": []
  }
 ],
 "metadata": {
  "kernelspec": {
   "display_name": "Python 3",
   "language": "python",
   "name": "python3"
  },
  "language_info": {
   "codemirror_mode": {
    "name": "ipython",
    "version": 3
   },
   "file_extension": ".py",
   "mimetype": "text/x-python",
   "name": "python",
   "nbconvert_exporter": "python",
   "pygments_lexer": "ipython3",
   "version": "3.9.5"
  }
 },
 "nbformat": 4,
 "nbformat_minor": 5
}
